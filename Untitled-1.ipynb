{
 "cells": [
  {
   "attachments": {},
   "cell_type": "markdown",
   "metadata": {},
   "source": [
    "### 3) Write a python function that counts the occurences/frequency of each character in a string:\n",
    "\n",
    "\n",
    "\n",
    "```\n",
    "input: 'Hello world!'\n",
    "output: H: 1, e: 1, l: 3, o:2, w:1, d:1, !: 1\n",
    "```"
   ]
  },
  {
   "cell_type": "code",
   "execution_count": 8,
   "metadata": {},
   "outputs": [
    {
     "data": {
      "text/plain": [
       "{'h': 1,\n",
       " 'e': 1,\n",
       " 'l': 2,\n",
       " 'L': 1,\n",
       " 'o': 2,\n",
       " ' ': 1,\n",
       " 'w': 1,\n",
       " 'r': 1,\n",
       " 'd': 1,\n",
       " '!': 1}"
      ]
     },
     "execution_count": 8,
     "metadata": {},
     "output_type": "execute_result"
    }
   ],
   "source": [
    "user_char = input(\"Please enter character to count:\")\n",
    "def word_count(user_char):\n",
    "    dict={}\n",
    "    for i in user_char:\n",
    "        dict[i] = user_char.count(i)\n",
    "    return dict\n",
    "word_count(user_char)"
   ]
  },
  {
   "attachments": {},
   "cell_type": "markdown",
   "metadata": {},
   "source": [
    "4) Write a Python function that counts the frequency of each word in a string\n",
    "input: 'Python is object-oriented Programming language because Python uses a programming paradigm that uses objects and classes in programming.'\n",
    "\n",
    "output: Python: 2, is: 1, object-oriented: 1, programming: 3 etc..."
   ]
  },
  {
   "cell_type": "code",
   "execution_count": 11,
   "metadata": {},
   "outputs": [
    {
     "data": {
      "text/plain": [
       "{'Python': 2,\n",
       " 'is': 1,\n",
       " 'object-oriented': 1,\n",
       " 'Programming': 1,\n",
       " 'language': 1,\n",
       " 'because': 1,\n",
       " 'uses': 2,\n",
       " 'a': 1,\n",
       " 'programming': 1,\n",
       " 'paradigm': 1,\n",
       " 'that': 1,\n",
       " 'objects': 1,\n",
       " 'and': 1,\n",
       " 'classes': 1,\n",
       " 'in': 1}"
      ]
     },
     "execution_count": 11,
     "metadata": {},
     "output_type": "execute_result"
    }
   ],
   "source": [
    "my_string = 'Python is object-oriented Programming language because Python uses a programming paradigm that uses objects and classes in programming.'\n",
    "\n",
    "def count_words(my_string):\n",
    "\n",
    "  lst_str = my_string.split()\n",
    "\n",
    "  dict = { }\n",
    "\n",
    "  for word in lst_str:\n",
    "      if word in dict:\n",
    "        dict[word.replace('.', '')] += 1\n",
    "      else:\n",
    "        dict[word.replace('.', '')] = 1\n",
    "\n",
    "  return dict\n",
    "\n",
    "count_words(my_string)"
   ]
  }
 ],
 "metadata": {
  "kernelspec": {
   "display_name": "Python 3.10.8 64-bit",
   "language": "python",
   "name": "python3"
  },
  "language_info": {
   "codemirror_mode": {
    "name": "ipython",
    "version": 3
   },
   "file_extension": ".py",
   "mimetype": "text/x-python",
   "name": "python",
   "nbconvert_exporter": "python",
   "pygments_lexer": "ipython3",
   "version": "3.10.8"
  },
  "orig_nbformat": 4,
  "vscode": {
   "interpreter": {
    "hash": "3e6eaf00392b0cb8b5a646d3515e821c15d6342d64f11192f7e7dc8c1b273a06"
   }
  }
 },
 "nbformat": 4,
 "nbformat_minor": 2
}
